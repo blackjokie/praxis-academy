{
 "cells": [
  {
   "cell_type": "code",
   "execution_count": 2,
   "metadata": {},
   "outputs": [
    {
     "name": "stdout",
     "output_type": "stream",
     "text": [
      "Api called\n",
      "the api returned a result: 42\n",
      "None\n"
     ]
    }
   ],
   "source": [
    "class Api:\n",
    "    def fetch_remote_data(self):\n",
    "        print('Api called')\n",
    "        return 42\n",
    "\n",
    "\n",
    "class BusinessLogic:\n",
    "    def __init__(self, api: Api):\n",
    "        self.api = api\n",
    "\n",
    "    def do_stuff(self):\n",
    "        api_result = self.api.fetch_remote_data()\n",
    "        print(f'the api returned a result: {api_result}')\n",
    "        # do something with the data and return a result\n",
    "\n",
    "# ---\n",
    "\n",
    "if __name__ == '__main__':\n",
    "    api = Api()\n",
    "    logic = BusinessLogic(api=api)\n",
    "\n",
    "    # ...\n",
    "    print(logic.do_stuff())"
   ]
  },
  {
   "cell_type": "code",
   "execution_count": 1,
   "metadata": {},
   "outputs": [
    {
     "name": "stdout",
     "output_type": "stream",
     "text": [
      "Requirement already satisfied: injector in /home/blackjokie/.local/lib/python3.7/site-packages (0.17.0)\n",
      "Note: you may need to restart the kernel to use updated packages.\n"
     ]
    }
   ],
   "source": [
    "pip install injector --user"
   ]
  },
  {
   "cell_type": "code",
   "execution_count": 2,
   "metadata": {},
   "outputs": [
    {
     "ename": "NameError",
     "evalue": "name 'Module' is not defined",
     "output_type": "error",
     "traceback": [
      "\u001b[0;31m---------------------------------------------------------------------------\u001b[0m",
      "\u001b[0;31mNameError\u001b[0m                                 Traceback (most recent call last)",
      "\u001b[0;32m<ipython-input-2-a3967a15c896>\u001b[0m in \u001b[0;36m<module>\u001b[0;34m\u001b[0m\n\u001b[0;32m----> 1\u001b[0;31m \u001b[0;32mclass\u001b[0m \u001b[0mAppModule\u001b[0m\u001b[0;34m(\u001b[0m\u001b[0mModule\u001b[0m\u001b[0;34m)\u001b[0m\u001b[0;34m:\u001b[0m\u001b[0;34m\u001b[0m\u001b[0;34m\u001b[0m\u001b[0m\n\u001b[0m\u001b[1;32m      2\u001b[0m \u001b[0;34m\u001b[0m\u001b[0m\n\u001b[1;32m      3\u001b[0m     \u001b[0;34m@\u001b[0m\u001b[0msingleton\u001b[0m\u001b[0;34m\u001b[0m\u001b[0;34m\u001b[0m\u001b[0m\n\u001b[1;32m      4\u001b[0m     \u001b[0;34m@\u001b[0m\u001b[0mprovider\u001b[0m\u001b[0;34m\u001b[0m\u001b[0;34m\u001b[0m\u001b[0m\n\u001b[1;32m      5\u001b[0m     \u001b[0;32mdef\u001b[0m \u001b[0mprovide_business_logic\u001b[0m\u001b[0;34m(\u001b[0m\u001b[0mself\u001b[0m\u001b[0;34m,\u001b[0m \u001b[0mapi\u001b[0m\u001b[0;34m:\u001b[0m \u001b[0mApi\u001b[0m\u001b[0;34m)\u001b[0m \u001b[0;34m->\u001b[0m \u001b[0mBusinessLogic\u001b[0m\u001b[0;34m:\u001b[0m\u001b[0;34m\u001b[0m\u001b[0;34m\u001b[0m\u001b[0m\n",
      "\u001b[0;31mNameError\u001b[0m: name 'Module' is not defined"
     ]
    }
   ],
   "source": [
    "class AppModule(Module):\n",
    "\n",
    "    @singleton\n",
    "    @provider\n",
    "    def provide_business_logic(self, api: Api) -> BusinessLogic:\n",
    "        return BusinessLogic(api=api)\n",
    "\n",
    "    @singleton\n",
    "    @provider\n",
    "    def provide_api(self) -> Api:\n",
    "        # there is no complex logic in our case,\n",
    "        # but you can use this method to hide the complexity of initial \n",
    "        configuration\n",
    "        # e.g. when instantiating a particular DB connector.\n",
    "        \n",
    "if __name__ == '__main__':\n",
    "    injector = Injector(AppModule())\n",
    "\n",
    "    logic = injector.get(BusinessLogic)\n",
    "    logic.do_stuff()"
   ]
  }
 ],
 "metadata": {
  "kernelspec": {
   "display_name": "Python 3",
   "language": "python",
   "name": "python3"
  },
  "language_info": {
   "codemirror_mode": {
    "name": "ipython",
    "version": 3
   },
   "file_extension": ".py",
   "mimetype": "text/x-python",
   "name": "python",
   "nbconvert_exporter": "python",
   "pygments_lexer": "ipython3",
   "version": "3.7.3"
  }
 },
 "nbformat": 4,
 "nbformat_minor": 2
}
