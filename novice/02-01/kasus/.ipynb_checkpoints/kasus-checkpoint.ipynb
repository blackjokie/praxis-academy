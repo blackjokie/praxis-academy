{
 "cells": [
  {
   "cell_type": "code",
   "execution_count": 5,
   "metadata": {},
   "outputs": [
    {
     "name": "stdout",
     "output_type": "stream",
     "text": [
      "Hello World!\n",
      "English\n"
     ]
    }
   ],
   "source": [
    "def greeting():\n",
    "    print (\"Hello World!\")\n",
    "    \n",
    "greeting()\n",
    "\n",
    "greeting.lang = \"English\"\n",
    "print (greeting.lang)"
   ]
  },
  {
   "cell_type": "code",
   "execution_count": 22,
   "metadata": {},
   "outputs": [
    {
     "data": {
      "text/plain": [
       "36"
      ]
     },
     "execution_count": 22,
     "metadata": {},
     "output_type": "execute_result"
    }
   ],
   "source": [
    "def square (x): \n",
    "    return x * x\n",
    "\n",
    "square(5)\n",
    "\n",
    "def foo(square):\n",
    "    return square * square\n",
    "\n",
    "foo(6)    "
   ]
  },
  {
   "cell_type": "code",
   "execution_count": null,
   "metadata": {},
   "outputs": [],
   "source": []
  },
  {
   "cell_type": "code",
   "execution_count": 1,
   "metadata": {},
   "outputs": [
    {
     "name": "stdout",
     "output_type": "stream",
     "text": [
      "How are you?\n"
     ]
    }
   ],
   "source": [
    "def formalGreeting():\n",
    "    print (\"How are you?\")\n",
    "    \n",
    "def casualGreeting():\n",
    "    print (\"What's up?\")\n",
    "    \n",
    "def greet(type, greetFormal, greetCasual):\n",
    "    if type == \"formal\":\n",
    "        greetFormal()\n",
    "    elif type == \"casual\":\n",
    "        greetCasual()\n",
    "        \n",
    "greet(\"formal\", formalGreeting, casualGreeting)"
   ]
  },
  {
   "cell_type": "code",
   "execution_count": 70,
   "metadata": {},
   "outputs": [
    {
     "name": "stdout",
     "output_type": "stream",
     "text": [
      "2\n",
      "4\n",
      "6\n"
     ]
    }
   ],
   "source": [
    "arr1 = [1, 2, 3]\n",
    "arr2 = []\n",
    "\n",
    "for x in range(0, len(arr1)):\n",
    "    arr2 = arr1[x] * 2 \n",
    "    # prints [ 2, 4, 6 ]\n",
    "    print(arr2)"
   ]
  },
  {
   "cell_type": "code",
   "execution_count": 69,
   "metadata": {},
   "outputs": [
    {
     "name": "stdout",
     "output_type": "stream",
     "text": [
      "2 4 6\n"
     ]
    }
   ],
   "source": [
    "arr1 = [1, 2, 3]\n",
    "squares = map(lambda x: x * 2, arr1)\n",
    "print (*squares)\n"
   ]
  },
  {
   "cell_type": "code",
   "execution_count": 36,
   "metadata": {},
   "outputs": [
    {
     "name": "stdout",
     "output_type": "stream",
     "text": [
      "43 21 16 23 33\n"
     ]
    }
   ],
   "source": [
    "birthYear = [1975, 1997, 2002, 1995, 1985]\n",
    "ages = map(lambda x: 2018 - x, birthYear)\n",
    "# prints [ 43, 21, 16, 23, 33 ]\n",
    "print(*ages)"
   ]
  },
  {
   "cell_type": "code",
   "execution_count": 65,
   "metadata": {},
   "outputs": [
    {
     "ename": "TypeError",
     "evalue": "tuple indices must be integers or slices, not str",
     "output_type": "error",
     "traceback": [
      "\u001b[0;31m---------------------------------------------------------------------------\u001b[0m",
      "\u001b[0;31mTypeError\u001b[0m                                 Traceback (most recent call last)",
      "\u001b[0;32m<ipython-input-65-3181af060105>\u001b[0m in \u001b[0;36m<module>\u001b[0;34m\u001b[0m\n\u001b[1;32m     30\u001b[0m \u001b[0;34m\u001b[0m\u001b[0m\n\u001b[1;32m     31\u001b[0m \u001b[0;32mfor\u001b[0m \u001b[0mage\u001b[0m \u001b[0;32min\u001b[0m \u001b[0mpersons\u001b[0m\u001b[0;34m.\u001b[0m\u001b[0mitems\u001b[0m\u001b[0;34m(\u001b[0m\u001b[0;34m)\u001b[0m\u001b[0;34m:\u001b[0m\u001b[0;34m\u001b[0m\u001b[0;34m\u001b[0m\u001b[0m\n\u001b[0;32m---> 32\u001b[0;31m     \u001b[0;32mif\u001b[0m \u001b[0mage\u001b[0m\u001b[0;34m[\u001b[0m\u001b[0;34m\"age\"\u001b[0m\u001b[0;34m]\u001b[0m \u001b[0;34m>=\u001b[0m \u001b[0;36m18\u001b[0m\u001b[0;34m:\u001b[0m\u001b[0;34m\u001b[0m\u001b[0;34m\u001b[0m\u001b[0m\n\u001b[0m\u001b[1;32m     33\u001b[0m         \u001b[0mfullAge\u001b[0m\u001b[0;34m.\u001b[0m\u001b[0mappend\u001b[0m\u001b[0;34m(\u001b[0m\u001b[0;34m)\u001b[0m\u001b[0;34m\u001b[0m\u001b[0;34m\u001b[0m\u001b[0m\n\u001b[1;32m     34\u001b[0m \u001b[0;34m\u001b[0m\u001b[0m\n",
      "\u001b[0;31mTypeError\u001b[0m: tuple indices must be integers or slices, not str"
     ]
    }
   ],
   "source": [
    "persons = {\n",
    "    \"person1\" : {\n",
    "       \"name\" : \"Peter\",\n",
    "        \"age\" : 16\n",
    "    },\n",
    "    \"person2\" : {\n",
    "       \"name\" : \"Mark\",\n",
    "        \"age\" : 18\n",
    "    },\n",
    "    \"person3\" : {\n",
    "       \"name\" : \"John\",\n",
    "        \"age\" : 27\n",
    "    },\n",
    "    \"person4\" : {\n",
    "       \"name\" : \"Jane\",\n",
    "        \"age\" : 14\n",
    "    },\n",
    "    \"person5\" : {\n",
    "       \"name\" : \"Tony\",\n",
    "        \"age\" : 24\n",
    "    }\n",
    "}\n",
    "\n",
    "fullAge = []\n",
    "\n",
    "# for data in persons:\n",
    "#     for data2 in data:\n",
    "#         if data2[\"age\"] >= 18:\n",
    "#             fullAge.append(persons[data])\n",
    "\n",
    "for age in persons.items():\n",
    "    if age[\"age\"] >= 18:\n",
    "        fullAge.append()\n",
    "\n",
    "print(fullAge)"
   ]
  },
  {
   "cell_type": "code",
   "execution_count": 72,
   "metadata": {},
   "outputs": [
    {
     "name": "stdout",
     "output_type": "stream",
     "text": [
      "43\n",
      "21\n",
      "16\n",
      "23\n",
      "33\n"
     ]
    }
   ],
   "source": [
    "birthYear = [1975, 1997, 2002, 1995, 1985]\n",
    "ages = []\n",
    "for x in range(0, len(birthYear)):\n",
    "    ages = 2018 - birthYear[x]\n",
    "    # prints [ 2, 4, 6 ]\n",
    "    print(ages)"
   ]
  }
 ],
 "metadata": {
  "kernelspec": {
   "display_name": "Python 3",
   "language": "python",
   "name": "python3"
  },
  "language_info": {
   "codemirror_mode": {
    "name": "ipython",
    "version": 3
   },
   "file_extension": ".py",
   "mimetype": "text/x-python",
   "name": "python",
   "nbconvert_exporter": "python",
   "pygments_lexer": "ipython3",
   "version": "3.7.3"
  }
 },
 "nbformat": 4,
 "nbformat_minor": 2
}
